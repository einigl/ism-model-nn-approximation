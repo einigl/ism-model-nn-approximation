{
 "cells": [
  {
   "cell_type": "markdown",
   "metadata": {},
   "source": [
    "# Pre and post processing operators\n",
    "\n",
    "The `operators` module contains helpers to manipulate NumPy `ndarray`. These operators are useful for pre or post processing of data. Note that they cannot handle PyTorch `Tensors`. To nest operators in a neural network, see the following file."
   ]
  },
  {
   "cell_type": "code",
   "execution_count": 1,
   "metadata": {},
   "outputs": [],
   "source": [
    "import os\n",
    "import sys\n",
    "\n",
    "sys.path.append(os.path.join(os.path.abspath(\"\"), \"..\"))\n",
    "\n",
    "import numpy as np\n",
    "import pandas as pd\n",
    "\n",
    "from torch import nn\n",
    "\n",
    "from nnbma.networks import FullyConnected\n",
    "from nnbma.operators import (\n",
    "    log10,\n",
    "    pow10,\n",
    "    asinh,\n",
    "    Normalizer,\n",
    "    NormTypes,\n",
    "    SequentialOperator,\n",
    ")\n",
    "\n",
    "from functions import Fexample as F"
   ]
  },
  {
   "cell_type": "markdown",
   "metadata": {},
   "source": [
    "## Introductory examples"
   ]
  },
  {
   "cell_type": "code",
   "execution_count": 2,
   "metadata": {},
   "outputs": [
    {
     "name": "stdout",
     "output_type": "stream",
     "text": [
      "Data shape: (10, 5)\n",
      "[[ 3.4063318e+00 -1.1354405e+00  9.8771578e-01  7.0870233e-01\n",
      "   1.7290703e+00]\n",
      " [ 2.1967297e+00 -1.9723588e+00  1.1380010e-03 -2.0811489e+00\n",
      "   2.4284778e+00]\n",
      " [ 1.6692861e+00 -9.6962959e-01  1.2388496e+00  2.8925421e+00\n",
      "   5.9123330e+00]\n",
      " [ 1.6724726e+00  1.3535130e+00  3.5991206e+00  6.4644545e-01\n",
      "   1.2336152e+00]\n",
      " [ 8.2049608e-01 -1.2848368e+00 -6.3905917e-02 -1.0490260e+00\n",
      "  -2.0751235e+00]\n",
      " [ 1.1257614e+00 -1.9223274e-01  1.5219371e+00 -2.8947442e+00\n",
      "   2.0434897e-01]\n",
      " [ 1.9933865e+00  2.5302145e-01 -1.3949286e+00  2.5250411e+00\n",
      "   1.4091047e+00]\n",
      " [ 1.1154927e+00 -1.2004021e+00 -7.3979467e-02  2.7410027e-01\n",
      "  -2.2426999e+00]\n",
      " [-2.4341707e-01  9.9058968e-01  1.4949166e+00 -6.7498440e-01\n",
      "   1.8345610e+00]\n",
      " [-6.9475919e-01 -2.5285777e-01  5.9505379e-01  2.4864352e+00\n",
      "  -3.8048300e-01]]\n"
     ]
    }
   ],
   "source": [
    "n_features = 5\n",
    "n_entries = 10\n",
    "\n",
    "mean = np.random.normal(0, 1, size=n_features)\n",
    "std = np.abs(np.random.normal(0, 1, size=n_features)) + 1\n",
    "x = np.random.normal(mean, std, size=(n_entries, n_features)).astype(\"float32\")\n",
    "\n",
    "print(f\"Data shape: {x.shape}\")\n",
    "print(x)"
   ]
  },
  {
   "cell_type": "markdown",
   "metadata": {},
   "source": [
    "### Rescaling\n",
    "\n",
    "You can choose the rescale your data with for instance `log10` if they are over several order of magnitude. Alternatively, you can choose to use `asinh` if you have positive and negative values (which is the case here)."
   ]
  },
  {
   "cell_type": "code",
   "execution_count": 3,
   "metadata": {},
   "outputs": [
    {
     "name": "stdout",
     "output_type": "stream",
     "text": [
      "[[ 0.532287           nan -0.00536801 -0.14953615  0.23781267]\n",
      " [ 0.34177664         nan -2.9438577          nan  0.38533413]\n",
      " [ 0.2225308          nan  0.0930186   0.4612797   0.7717589 ]\n",
      " [ 0.22335902  0.13146244  0.55619645 -0.18946813  0.0911797 ]\n",
      " [-0.08592349         nan         nan         nan         nan]\n",
      " [ 0.05144635         nan  0.18239672         nan -0.6896276 ]\n",
      " [ 0.29959154 -0.5968427          nan  0.40226847  0.14894328]\n",
      " [ 0.04746673         nan         nan -0.5620906          nan]\n",
      " [        nan -0.0041062   0.17461695         nan  0.26353216]\n",
      " [        nan         nan -0.22544378  0.39557716         nan]]\n"
     ]
    },
    {
     "name": "stderr",
     "output_type": "stream",
     "text": [
      "/home/einig/PHD/projects/ism-model-nn-approximation/nnbma/operators/base.py:10: RuntimeWarning: invalid value encountered in log10\n",
      "  return np.log10(t)\n"
     ]
    }
   ],
   "source": [
    "y = log10(x)\n",
    "print(y)"
   ]
  },
  {
   "cell_type": "code",
   "execution_count": 4,
   "metadata": {},
   "outputs": [
    {
     "name": "stdout",
     "output_type": "stream",
     "text": [
      "[[ 1.9396644e+00 -9.7397798e-01  8.7266058e-01  6.5978122e-01\n",
      "   1.3154666e+00]\n",
      " [ 1.5283064e+00 -1.4312052e+00  1.1380007e-03 -1.4793483e+00\n",
      "   1.6203358e+00]\n",
      " [ 1.2851425e+00 -8.5973459e-01  1.0406084e+00  1.7839062e+00\n",
      "   2.4772642e+00]\n",
      " [ 1.2867789e+00  1.1106617e+00  1.9926003e+00  6.0824162e-01\n",
      "   1.0373164e+00]\n",
      " [ 7.4859309e-01 -1.0691719e+00 -6.3862495e-02 -9.1561884e-01\n",
      "  -1.4767357e+00]\n",
      " [ 9.6756536e-01 -1.9106807e-01  1.2068704e+00 -1.7846254e+00\n",
      "   2.0295283e-01]\n",
      " [ 1.4406739e+00  2.5039664e-01 -1.1350307e+00  1.6564913e+00\n",
      "   1.1432626e+00]\n",
      " [ 9.6072841e-01 -1.0162306e+00 -7.3912151e-02  2.7077913e-01\n",
      "  -1.5471891e+00]\n",
      " [-2.4107517e-01  8.7470382e-01  1.1919401e+00 -6.3205260e-01\n",
      "   1.3671030e+00]\n",
      " [-6.4836782e-01 -2.5023797e-01  5.6457895e-01  1.6421815e+00\n",
      "  -3.7185386e-01]]\n"
     ]
    }
   ],
   "source": [
    "y = asinh(x)\n",
    "print(y)"
   ]
  },
  {
   "cell_type": "markdown",
   "metadata": {},
   "source": [
    "### Normalization\n",
    "\n",
    "You may probably want to normalize your data. There are several options for you:\n",
    "- `NONE`: No normalization\n",
    "- `MEAN0`: Center the columns, i.e., set their means to 0\n",
    "- `STD1`: Reduce the columns, i.e., set their variances to 1\n",
    "- `MEAN0STD1`: Center and reduce the columns, i.e., set their means to 0 and their variances to 1\n",
    "- `MIN0MAX1`: Apply a MinMax normalization, i.e., set the minimum value of each column to 0 and the maximum to 1\n",
    "- `MIN1MAX1`: Apply an alternative MinMax normalization, i.e., set the minimum value of each column to -1 and the maximum to 1"
   ]
  },
  {
   "cell_type": "code",
   "execution_count": 5,
   "metadata": {},
   "outputs": [
    {
     "name": "stdout",
     "output_type": "stream",
     "text": [
      "[[ 1.00000000e+00 -4.96722460e-01 -4.58065867e-02  2.45297432e-01\n",
      "  -2.59339809e-02]\n",
      " [ 4.10107136e-01 -1.00000000e+00 -4.40907955e-01 -7.18833566e-01\n",
      "   1.45593882e-01]\n",
      " [ 1.52886152e-01 -3.97012770e-01  5.47666550e-02  1.00000000e+00\n",
      "   1.00000000e+00]\n",
      " [ 1.54440045e-01  1.00000000e+00  1.00000000e+00  2.23782420e-01\n",
      "  -1.47443056e-01]\n",
      " [-2.61047721e-01 -5.86561322e-01 -4.66956556e-01 -3.62147272e-01\n",
      "  -9.58902359e-01]\n",
      " [-1.12177372e-01  7.04717636e-02  1.68136597e-01 -1.00000000e+00\n",
      "  -3.99867833e-01]\n",
      " [ 3.10941696e-01  3.38223577e-01 -1.00000000e+00  8.72997165e-01\n",
      "  -1.04404747e-01]\n",
      " [-1.17185175e-01 -5.35786867e-01 -4.70990777e-01  9.51055288e-02\n",
      "  -1.00000000e+00]\n",
      " [-7.79891670e-01  7.81757474e-01  1.57315493e-01 -2.32884109e-01\n",
      "  -6.27040863e-05]\n",
      " [-1.00000000e+00  3.40151787e-02 -2.03058541e-01  8.59655499e-01\n",
      "  -5.43296337e-01]]\n"
     ]
    }
   ],
   "source": [
    "norm = Normalizer(pd.DataFrame(x), norm_type=NormTypes.MIN1MAX1)\n",
    "\n",
    "y = norm(x)\n",
    "print(y)"
   ]
  },
  {
   "cell_type": "code",
   "execution_count": 6,
   "metadata": {},
   "outputs": [
    {
     "name": "stdout",
     "output_type": "stream",
     "text": [
      "[[ 1.771317   -0.6508456   0.1475014   0.21452552  0.30665794]\n",
      " [ 0.75111127 -1.4352963  -0.5907225  -1.1924846   0.60300183]\n",
      " [ 0.30625358 -0.4954296   0.33541664  1.3159049   2.079136  ]\n",
      " [ 0.3089411   1.6820718   2.1015303   0.18312742  0.0967301 ]\n",
      " [-0.409635   -0.79087603 -0.6393927  -0.6719524  -1.305206  ]\n",
      " [-0.1521674   0.23323111  0.54724175 -1.6028064  -0.33937728]\n",
      " [ 0.5796071   0.6505717  -1.6353533   1.1305625   0.17108625]\n",
      " [-0.16082823 -0.7117347  -0.6469304  -0.00465803 -1.3762091 ]\n",
      " [-1.3069632   1.3419006   0.52702314 -0.4833114   0.3513551 ]\n",
      " [-1.6876354   0.17640676 -0.14631471  1.1110923  -0.5871748 ]]\n"
     ]
    }
   ],
   "source": [
    "norm = Normalizer(pd.DataFrame(x), norm_type=NormTypes.MEAN0STD1)\n",
    "\n",
    "y = norm(x)\n",
    "print(y)"
   ]
  },
  {
   "cell_type": "markdown",
   "metadata": {},
   "source": [
    "## Embedding within a network\n",
    "\n",
    "These operators can be added before and after a network. This is really user-friendly as people that haven't trained the network won't have to check how the data was preprocessed."
   ]
  },
  {
   "cell_type": "code",
   "execution_count": 7,
   "metadata": {},
   "outputs": [],
   "source": [
    "preprocessing = SequentialOperator([asinh, norm])\n",
    "postprocessing = pow10\n",
    "\n",
    "net = FullyConnected(\n",
    "    [n_features, 10, 10, 1],\n",
    "    nn.ReLU(),\n",
    "    inputs_transformer=preprocessing,\n",
    "    outputs_transformer=postprocessing,\n",
    ")"
   ]
  },
  {
   "cell_type": "markdown",
   "metadata": {},
   "source": [
    "Usually, you can just evaluate the network as it was a function (`net(x)`). But, by default it won't apply the pre and post processings. So you need to call the method `evaluate` which is mainly the same with more options:"
   ]
  },
  {
   "cell_type": "code",
   "execution_count": 8,
   "metadata": {},
   "outputs": [
    {
     "name": "stdout",
     "output_type": "stream",
     "text": [
      "[[1.5116196 ]\n",
      " [1.5584499 ]\n",
      " [1.4138592 ]\n",
      " [1.7413094 ]\n",
      " [1.9702724 ]\n",
      " [2.2404044 ]\n",
      " [0.88946015]\n",
      " [1.695295  ]\n",
      " [1.290986  ]\n",
      " [1.5530138 ]]\n"
     ]
    }
   ],
   "source": [
    "y = net.evaluate(x, transform_inputs=True, transform_outputs=True)\n",
    "print(y)"
   ]
  }
 ],
 "metadata": {
  "kernelspec": {
   "display_name": "nnbma-aChir395-py3.10",
   "language": "python",
   "name": "python3"
  },
  "language_info": {
   "codemirror_mode": {
    "name": "ipython",
    "version": 3
   },
   "file_extension": ".py",
   "mimetype": "text/x-python",
   "name": "python",
   "nbconvert_exporter": "python",
   "pygments_lexer": "ipython3",
   "version": "3.10.12"
  }
 },
 "nbformat": 4,
 "nbformat_minor": 2
}
