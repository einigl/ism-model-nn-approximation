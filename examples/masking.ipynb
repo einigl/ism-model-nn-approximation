{
 "cells": [
  {
   "cell_type": "markdown",
   "metadata": {},
   "source": [
    "# Neural network training with masked unreliable labels\n",
    "\n",
    "This example presents the procedure to train a model with a loss function that ignores labels that have been identified as unreliable. These labels are said to be masked."
   ]
  },
  {
   "cell_type": "code",
   "execution_count": 1,
   "metadata": {},
   "outputs": [],
   "source": [
    "import os\n",
    "import sys\n",
    "\n",
    "sys.path.append(os.path.join(os.path.abspath(\"\"), \"..\"))\n",
    "\n",
    "import numpy as np\n",
    "from IPython.display import Markdown as md\n",
    "\n",
    "from torch import nn, optim\n",
    "\n",
    "from nnbma.networks import FullyConnected\n",
    "from nnbma.dataset import RegressionDataset\n",
    "from nnbma.learning import learning_procedure, LearningParameters\n",
    "\n",
    "from functions import Fexample as F"
   ]
  },
  {
   "cell_type": "markdown",
   "metadata": {},
   "source": [
    "### Analytical function\n",
    "\n",
    "In the following cell, we load and instantiate a vectorial function $f$ implemented as a PyTorch `Module`. For more details on the implementation, see `functions.py`. You can implement your own by following the model.\n",
    "\n",
    "The function is the following:"
   ]
  },
  {
   "cell_type": "code",
   "execution_count": 2,
   "metadata": {},
   "outputs": [
    {
     "data": {
      "text/markdown": [
       "$$\\left(\\begin{array}{c} t_1\\\\ t_2 \\end{array}\\right) \\longmapsto \\left(\\begin{array}{c} t_1+2t_2\\\\ t_1^2\\\\ t_1t_2^2 \\end{array}\\right)$$"
      ],
      "text/plain": [
       "<IPython.core.display.Markdown object>"
      ]
     },
     "execution_count": 2,
     "metadata": {},
     "output_type": "execute_result"
    }
   ],
   "source": [
    "f = F()\n",
    "md(F.latex())"
   ]
  },
  {
   "cell_type": "markdown",
   "metadata": {},
   "source": [
    "### Definition of the model"
   ]
  },
  {
   "cell_type": "code",
   "execution_count": 3,
   "metadata": {},
   "outputs": [],
   "source": [
    "layers_sizes = [f.n_inputs, 50, 50, f.n_outputs]  # Can be modified\n",
    "activation = nn.ELU()\n",
    "\n",
    "net = FullyConnected(layers_sizes, activation)"
   ]
  },
  {
   "cell_type": "markdown",
   "metadata": {},
   "source": [
    "### Dataset"
   ]
  },
  {
   "cell_type": "code",
   "execution_count": 4,
   "metadata": {},
   "outputs": [],
   "source": [
    "n_samples = 10_000\n",
    "test_frac = 0.20\n",
    "\n",
    "np.random.seed(0)\n",
    "X = np.random.normal(0, 1, size=(n_samples, F.n_inputs)).astype(\"float32\")\n",
    "Y = f(X)\n",
    "\n",
    "X_train, X_test = X[round(test_frac * n_samples) :], X[: round(test_frac * n_samples)]\n",
    "Y_train, Y_test = Y[round(test_frac * n_samples) :], Y[: round(test_frac * n_samples)]\n",
    "\n",
    "train_dataset = RegressionDataset(X_train, Y_train)\n",
    "test_dataset = RegressionDataset(X_test, Y_test)"
   ]
  },
  {
   "cell_type": "markdown",
   "metadata": {},
   "source": [
    "### Damage to certain labels"
   ]
  },
  {
   "cell_type": "code",
   "execution_count": 5,
   "metadata": {},
   "outputs": [],
   "source": [
    "p_damage = 0.05  # 5%, can be modified\n",
    "\n",
    "# Work in progress"
   ]
  },
  {
   "cell_type": "markdown",
   "metadata": {},
   "source": [
    "## Train a network with masked labels"
   ]
  },
  {
   "cell_type": "code",
   "execution_count": 6,
   "metadata": {},
   "outputs": [],
   "source": [
    "# Work in progress"
   ]
  },
  {
   "cell_type": "markdown",
   "metadata": {},
   "source": [
    "## Advanced example: how to detect anomalies"
   ]
  },
  {
   "cell_type": "markdown",
   "metadata": {},
   "source": [
    "### 1. Use a robust loss function to detect outliers"
   ]
  },
  {
   "cell_type": "code",
   "execution_count": 7,
   "metadata": {},
   "outputs": [],
   "source": [
    "## Work in progress"
   ]
  },
  {
   "cell_type": "markdown",
   "metadata": {},
   "source": [
    "### 2. Train a network with a masked non-robust loss function"
   ]
  },
  {
   "cell_type": "code",
   "execution_count": 8,
   "metadata": {},
   "outputs": [],
   "source": [
    "## Work in progress"
   ]
  }
 ],
 "metadata": {
  "kernelspec": {
   "display_name": "nnbma-aChir395-py3.10",
   "language": "python",
   "name": "python3"
  },
  "language_info": {
   "codemirror_mode": {
    "name": "ipython",
    "version": 3
   },
   "file_extension": ".py",
   "mimetype": "text/x-python",
   "name": "python",
   "nbconvert_exporter": "python",
   "pygments_lexer": "ipython3",
   "version": "3.10.12"
  }
 },
 "nbformat": 4,
 "nbformat_minor": 2
}
