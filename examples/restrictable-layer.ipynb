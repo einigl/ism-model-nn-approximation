{
 "cells": [
  {
   "cell_type": "markdown",
   "metadata": {},
   "source": [
    "# Restriction of outputs\n",
    "\n",
    "In some cases, the model we're training has many outputs. In such cases, depending on the situation, it may be desirable to return only some of its outputs.\n",
    "\n",
    "The `RestrictableLayer` allows you to do this, by indicating which outputs should be kept, either by name if they exist, or by number."
   ]
  },
  {
   "cell_type": "code",
   "execution_count": 1,
   "metadata": {},
   "outputs": [],
   "source": [
    "import os\n",
    "import sys\n",
    "\n",
    "sys.path.append(os.path.join(os.path.abspath(\"\"), \"..\"))\n",
    "\n",
    "import numpy as np\n",
    "\n",
    "from torch import nn\n",
    "\n",
    "from nnbma.networks import FullyConnected"
   ]
  },
  {
   "cell_type": "markdown",
   "metadata": {},
   "source": [
    "As an example, we're going to create a very simple network that we won't be training. The aim is just to manipulate its outputs."
   ]
  },
  {
   "cell_type": "code",
   "execution_count": 2,
   "metadata": {},
   "outputs": [],
   "source": [
    "n_inputs, n_outputs = 2, 20\n",
    "layers_sizes = [n_inputs, 10, 10, n_outputs]\n",
    "activation = nn.ReLU()\n",
    "outputs_names = [f\"output {k+1}\" for k in range(n_outputs)]\n",
    "\n",
    "net = FullyConnected(\n",
    "    layers_sizes,\n",
    "    activation,\n",
    "    outputs_names=outputs_names,\n",
    "    last_restrictable=True,  # This parameter is True by default\n",
    ")"
   ]
  },
  {
   "cell_type": "markdown",
   "metadata": {},
   "source": [
    "By default, the network returns all the outputs:"
   ]
  },
  {
   "cell_type": "code",
   "execution_count": 3,
   "metadata": {},
   "outputs": [
    {
     "name": "stdout",
     "output_type": "stream",
     "text": [
      "Number of outputs: 20\n",
      "[-0.01225665 -0.07435182 -0.27788568 -0.08382663 -0.19809842 -0.4424935\n",
      " -0.33679342 -0.13146824  0.2730468   0.22283658 -0.26923177 -0.14347078\n",
      "  0.31273493  0.3232665   0.1697111   0.3869456   0.20897529 -0.15252575\n",
      " -0.07885606  0.36726213]\n"
     ]
    }
   ],
   "source": [
    "x = np.random.normal(0, 1, n_inputs).astype(\"float32\")\n",
    "y = net(x)\n",
    "\n",
    "print(\"Number of outputs:\", y.shape[0])\n",
    "print(y)"
   ]
  },
  {
   "cell_type": "markdown",
   "metadata": {},
   "source": [
    "We can select the outputs by their names:"
   ]
  },
  {
   "cell_type": "code",
   "execution_count": 4,
   "metadata": {},
   "outputs": [
    {
     "name": "stdout",
     "output_type": "stream",
     "text": [
      "Number of outputs: 2\n",
      "[-0.19809842  0.22283658]\n"
     ]
    }
   ],
   "source": [
    "net.restrict_to_output_subset([\"output 5\", \"output 10\"])\n",
    "y = net(x)\n",
    "\n",
    "print(\"Number of outputs:\", y.shape[0])\n",
    "print(y)"
   ]
  },
  {
   "cell_type": "markdown",
   "metadata": {},
   "source": [
    "Alternatively (for instance if no outputs names has been provided), we can select them by their indices (starting at zero):"
   ]
  },
  {
   "cell_type": "code",
   "execution_count": 5,
   "metadata": {},
   "outputs": [
    {
     "name": "stdout",
     "output_type": "stream",
     "text": [
      "Number of outputs: 2\n",
      "[-0.19809842  0.22283658]\n"
     ]
    }
   ],
   "source": [
    "net.restrict_to_output_subset([4, 9])\n",
    "y = net(x)\n",
    "\n",
    "print(\"Number of outputs:\", y.shape[0])\n",
    "print(y)"
   ]
  },
  {
   "cell_type": "markdown",
   "metadata": {},
   "source": [
    "Note that you cannot restrict the output when the current network mode is `train`:"
   ]
  },
  {
   "cell_type": "code",
   "execution_count": 6,
   "metadata": {},
   "outputs": [
    {
     "name": "stdout",
     "output_type": "stream",
     "text": [
      "Error: You're not able to restrict the outputs when Module mode is train\n"
     ]
    }
   ],
   "source": [
    "net.train()\n",
    "try:\n",
    "    net.restrict_to_output_subset([\"output 5\", \"output 12\"])\n",
    "except PermissionError as e:\n",
    "    print(f\"Error: {e}\")"
   ]
  },
  {
   "cell_type": "markdown",
   "metadata": {},
   "source": [
    "__Note:__ Any network inheriting from `NeuralNetwork`` has the `restrict_to_output_subset` method. In the general case, the implementation is just a selection of the chosen outputs.\n",
    "\n",
    "If the output layer is an instance of `RestrictableLayer`, then this is handled more finely, as the matrix product performed by the linear layer is that of the sub-matrix of weights corresponding to the selected outputs only. If the number of selected outputs is much lower than the total number of outputs, this reduction in the size of the weight matrix will lead to a significant reduction in calculation time."
   ]
  }
 ],
 "metadata": {
  "kernelspec": {
   "display_name": "nnbma-aChir395-py3.10",
   "language": "python",
   "name": "python3"
  },
  "language_info": {
   "codemirror_mode": {
    "name": "ipython",
    "version": 3
   },
   "file_extension": ".py",
   "mimetype": "text/x-python",
   "name": "python",
   "nbconvert_exporter": "python",
   "pygments_lexer": "ipython3",
   "version": "3.10.12"
  }
 },
 "nbformat": 4,
 "nbformat_minor": 2
}
