{
 "cells": [
  {
   "cell_type": "markdown",
   "metadata": {},
   "source": [
    "# Neural networks merging\n",
    "\n",
    "The `MergingNetwork` module is a torch `Module` that permit to assemble several `NeuralNetwork` instances into a single `NeuralNetwork`. It is useful to manipulate easily a model composed of different submodel dedicated to different outputs but that use the same inputs."
   ]
  },
  {
   "cell_type": "code",
   "execution_count": 1,
   "metadata": {},
   "outputs": [],
   "source": [
    "import os\n",
    "import sys\n",
    "\n",
    "sys.path.append(os.path.join(os.path.abspath(\"\"), \"..\"))\n",
    "\n",
    "import numpy as np\n",
    "from torch import nn\n",
    "\n",
    "from nnbma.networks import FullyConnected, MergingNetwork"
   ]
  },
  {
   "cell_type": "markdown",
   "metadata": {},
   "source": [
    "## Introductive example"
   ]
  },
  {
   "cell_type": "markdown",
   "metadata": {},
   "source": [
    "We assume that we want to approximate a function of the following form:\n",
    "\n",
    "$$ f: \\left( \\begin{array}{c} x_1\\\\ x_2 \\end{array} \\right) \\longmapsto \\left( \\begin{array}{c} y_1\\\\ y_2\\\\ y_3 \\end{array} \\right) $$\n",
    "\n",
    "For some reasons, for instance the observation that the calculation of $y_1$ and $y_2$ are closely related, we chose to approximate $f$ using two separate networks:\n",
    "\n",
    "$$ \\hat{f}_{1,2}: \\left( \\begin{array}{c} x_1\\\\ x_2 \\end{array} \\right) \\longmapsto \\left( \\begin{array}{c} y_1\\\\ y_2 \\end{array} \\right) $$\n",
    "$$ \\hat{f}_{3}: \\left( \\begin{array}{c} x_1\\\\ x_2 \\end{array} \\right) \\longmapsto \\left( \\begin{array}{c} y_3 \\end{array} \\right) $$\n",
    "\n",
    "We then have $\\hat{f} = [\\hat{f}_{1,2},\\,\\hat{f}_{3}]$."
   ]
  },
  {
   "cell_type": "code",
   "execution_count": 2,
   "metadata": {},
   "outputs": [],
   "source": [
    "# Example of input\n",
    "x = np.random.normal(0, 1, size=(2)).astype(\"float32\")"
   ]
  },
  {
   "cell_type": "code",
   "execution_count": 3,
   "metadata": {},
   "outputs": [
    {
     "name": "stdout",
     "output_type": "stream",
     "text": [
      "[-0.21789408  0.05968252]\n",
      "[-0.00249609]\n"
     ]
    }
   ],
   "source": [
    "net12 = FullyConnected(\n",
    "    [2, 20, 20, 2],\n",
    "    nn.ELU(),\n",
    ").float()\n",
    "print(net12(x))\n",
    "\n",
    "net3 = FullyConnected(\n",
    "    [2, 20, 20, 1],\n",
    "    nn.ELU(),\n",
    ").float()\n",
    "print(net3(x))"
   ]
  },
  {
   "cell_type": "markdown",
   "metadata": {},
   "source": [
    "Instead of handling each network separately, we can create a network comprising both:\n",
    "\n"
   ]
  },
  {
   "cell_type": "code",
   "execution_count": 4,
   "metadata": {},
   "outputs": [
    {
     "name": "stdout",
     "output_type": "stream",
     "text": [
      "[-0.21789408  0.05968252 -0.00249609]\n"
     ]
    }
   ],
   "source": [
    "net = MergingNetwork(\n",
    "    [net12, net3],\n",
    ").float()\n",
    "print(net(x))"
   ]
  },
  {
   "cell_type": "markdown",
   "metadata": {},
   "source": [
    "This architecture also handle:\n",
    "- the merging of more than two networks\n",
    "- the case where the outputs of the subnetworks are not contiguous\n",
    "- the case where the outputs have names\n",
    "\n",
    "An example of a more complex case is given as example in the next section."
   ]
  },
  {
   "cell_type": "markdown",
   "metadata": {},
   "source": [
    "## Advanced example\n",
    "\n",
    "We suppose that we want to train a model that learn an estimation of the temperature in some European cities in function of two parameters.\n",
    "\n",
    "- the number of the day in the year $n_{day}$\n",
    "- the average temperature in Europe $T_{avg}$\n",
    "- the average atmospheric pressure in Europe $P_{avg}$\n",
    "\n",
    "The cities are the following (sorted alphabetically): Amsterdam, Barcelona, Berlin, Brussels, Lisbon, London, Madrid, Oslo, Paris, Prague, Stockholm, Vienna\n",
    "\n",
    "Because of the distance between some cities, we decide to train a dedicated model for each region because we assume that it will be some redundancy.\n",
    "\n",
    "The regions are the following:\n",
    "\n",
    "- __Western Europe:__ Paris, London, Brussels, Amsterdam\n",
    "- __Central Europe:__ Berlin, Vienna, Prague\n",
    "- __South-western Europe:__ Madrid, Barcelona, Lisbon\n",
    "- __Northern Europe:__ Oslo, Stockholm"
   ]
  },
  {
   "cell_type": "code",
   "execution_count": 5,
   "metadata": {},
   "outputs": [],
   "source": [
    "variables_names = [\"d\", \"T\", \"P\"]\n",
    "cities_names = [\n",
    "    \"Amsterdam\",\n",
    "    \"Barcelona\",\n",
    "    \"Berlin\",\n",
    "    \"Brussels\",\n",
    "    \"Lisbon\",\n",
    "    \"London\",\n",
    "    \"Madrid\",\n",
    "    \"Oslo\",\n",
    "    \"Paris\",\n",
    "    \"Prague\",\n",
    "    \"Stockholm\",\n",
    "    \"Vienna\",\n",
    "]\n",
    "\n",
    "western = [\"Paris\", \"London\", \"Brussels\", \"Amsterdam\"]\n",
    "central = [\"Berlin\", \"Vienna\", \"Prague\"]\n",
    "southwestern = [\"Madrid\", \"Barcelona\", \"Lisbon\"]\n",
    "northern = [\"Oslo\", \"Stockholm\"]"
   ]
  },
  {
   "cell_type": "markdown",
   "metadata": {},
   "source": [
    "You can create a `MergingNetwork` just by concatenating the subnetworks:"
   ]
  },
  {
   "cell_type": "code",
   "execution_count": 6,
   "metadata": {},
   "outputs": [],
   "source": [
    "layers_size = [3, 50, 50]\n",
    "activation = nn.ReLU()\n",
    "\n",
    "subnetworks = [\n",
    "    FullyConnected(\n",
    "        layers_size + [len(western)],\n",
    "        activation,\n",
    "        inputs_names=variables_names,\n",
    "        outputs_names=western,\n",
    "    ),\n",
    "    FullyConnected(\n",
    "        layers_size + [len(central)],\n",
    "        activation,\n",
    "        inputs_names=variables_names,\n",
    "        outputs_names=central,\n",
    "    ),\n",
    "    FullyConnected(\n",
    "        layers_size + [len(southwestern)],\n",
    "        activation,\n",
    "        inputs_names=variables_names,\n",
    "        outputs_names=southwestern,\n",
    "    ),\n",
    "    FullyConnected(\n",
    "        layers_size + [len(northern)],\n",
    "        activation,\n",
    "        inputs_names=variables_names,\n",
    "        outputs_names=northern,\n",
    "    ),\n",
    "]\n",
    "network = MergingNetwork(\n",
    "    subnetworks,\n",
    "    inputs_names=variables_names,\n",
    ")"
   ]
  },
  {
   "cell_type": "markdown",
   "metadata": {},
   "source": [
    "By default, the order of the outputs is defined with the order of the subnetworks."
   ]
  },
  {
   "cell_type": "code",
   "execution_count": 7,
   "metadata": {},
   "outputs": [
    {
     "name": "stdout",
     "output_type": "stream",
     "text": [
      "Number of outputs: 12\n",
      "Outputs names: ['Paris', 'London', 'Brussels', 'Amsterdam', 'Berlin', 'Vienna', 'Prague', 'Madrid', 'Barcelona', 'Lisbon', 'Oslo', 'Stockholm']\n"
     ]
    }
   ],
   "source": [
    "print(\"Number of outputs:\", network.output_features)\n",
    "print(\"Outputs names:\", network.outputs_names)"
   ]
  },
  {
   "cell_type": "markdown",
   "metadata": {},
   "source": [
    "If you want to impose a proper output orders, you can impose the output names of the `MergingNetwork`. These name must exaclty match the concatenation of the output names of all the subnetwork."
   ]
  },
  {
   "cell_type": "code",
   "execution_count": 18,
   "metadata": {},
   "outputs": [
    {
     "name": "stdout",
     "output_type": "stream",
     "text": [
      "Number of outputs: 12\n",
      "Outputs names: ['Amsterdam', 'Barcelona', 'Berlin', 'Brussels', 'Lisbon', 'London', 'Madrid', 'Oslo', 'Paris', 'Prague', 'Stockholm', 'Vienna']\n"
     ]
    }
   ],
   "source": [
    "network = MergingNetwork(\n",
    "    subnetworks,\n",
    "    inputs_names=variables_names,\n",
    "    outputs_names=cities_names,\n",
    ")\n",
    "\n",
    "print(\"Number of outputs:\", network.output_features)\n",
    "print(\"Outputs names:\", network.outputs_names)"
   ]
  },
  {
   "cell_type": "markdown",
   "metadata": {},
   "source": [
    "As with other networks, you can choose to calculate only a subset of the outputs:"
   ]
  },
  {
   "cell_type": "code",
   "execution_count": 19,
   "metadata": {},
   "outputs": [
    {
     "name": "stdout",
     "output_type": "stream",
     "text": [
      "Amsterdam: -0.04\n",
      "Barcelona: -0.05\n",
      "Berlin: 0.19\n",
      "Brussels: -0.05\n",
      "Lisbon: 0.09\n",
      "London: -0.24\n",
      "Madrid: 0.18\n",
      "Oslo: 0.04\n",
      "Paris: -0.13\n",
      "Prague: -0.20\n",
      "Stockholm: 0.00\n",
      "Vienna: 0.06\n",
      "\n",
      "Berlin: 0.19\n",
      "Madrid: 0.18\n",
      "Paris: -0.13\n",
      "\n"
     ]
    }
   ],
   "source": [
    "x = np.random.normal(size=network.input_features)\n",
    "\n",
    "for city, value in zip(network.outputs_names, network.evaluate(x).flatten()):\n",
    "    print(f\"{city}: {value:.2f}\")\n",
    "print()\n",
    "\n",
    "cities = [\"Berlin\", \"Madrid\", \"Paris\"]\n",
    "network.restrict_to_output_subset(cities)  # Compute only specified outputs\n",
    "\n",
    "for city, value in zip(cities, network.evaluate(x).flatten()):\n",
    "    print(f\"{city}: {value:.2f}\")\n",
    "print()"
   ]
  }
 ],
 "metadata": {
  "kernelspec": {
   "display_name": "torch-v2",
   "language": "python",
   "name": "python3"
  },
  "language_info": {
   "codemirror_mode": {
    "name": "ipython",
    "version": 3
   },
   "file_extension": ".py",
   "mimetype": "text/x-python",
   "name": "python",
   "nbconvert_exporter": "python",
   "pygments_lexer": "ipython3",
   "version": "3.10.12"
  },
  "orig_nbformat": 4
 },
 "nbformat": 4,
 "nbformat_minor": 2
}
