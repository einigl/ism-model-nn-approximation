{
 "cells": [
  {
   "attachments": {},
   "cell_type": "markdown",
   "metadata": {},
   "source": [
    "# Neural networks auto-differentiation using PyTorch 2.0"
   ]
  },
  {
   "cell_type": "code",
   "execution_count": 1,
   "metadata": {},
   "outputs": [],
   "source": [
    "import os\n",
    "import sys\n",
    "\n",
    "sys.path.append(os.path.join(os.path.abspath(\"\"), \"..\"))\n",
    "\n",
    "import torch\n",
    "from torch import nn\n",
    "from torch.func import jacrev, jacfwd, hessian, vmap\n",
    "\n",
    "from nnbma.networks import FullyConnected"
   ]
  },
  {
   "attachments": {},
   "cell_type": "markdown",
   "metadata": {},
   "source": [
    "## Introduction to differentiation with PyTorch\n",
    "\n",
    "We will use the following modules:\n",
    "* `jacrev`: compute the jacobian using reverse-mode autodiff\n",
    "* `jacfwd`: compute the jacobian using forward-mode autodiff\n",
    "* `hessian`: compute the jacobian using both reverse and forward-mode autodiff\n",
    "* `vmap`: vectorizing function used to compute the derivatives of batched inputs\n",
    "\n",
    "The computation of high order derivative can be done by composing several times `jacrev` and/or `jacfwd`. Note that `hessian` is just a convenience module defined as `hessian(f) = jacfwd(jacrev(f))`, but that the hessian computation can be done through other compositions."
   ]
  },
  {
   "attachments": {},
   "cell_type": "markdown",
   "metadata": {},
   "source": [
    "## Comparison of computation times\n",
    "\n",
    "We will create a larger neural network in order to compare the computation times of the different ways of calculating the derivatives."
   ]
  },
  {
   "cell_type": "code",
   "execution_count": 2,
   "metadata": {},
   "outputs": [],
   "source": [
    "n_inputs = 5\n",
    "n_outputs = 25\n",
    "\n",
    "layers_sizes = [n_inputs, 1000, 1000, n_outputs]\n",
    "activation = nn.ELU()\n",
    "\n",
    "huge_net = FullyConnected(\n",
    "    layers_sizes,\n",
    "    activation,\n",
    ")"
   ]
  },
  {
   "cell_type": "code",
   "execution_count": 3,
   "metadata": {},
   "outputs": [],
   "source": [
    "# Jacobian matrix\n",
    "jacr = vmap(jacrev(huge_net.forward))\n",
    "jacf = vmap(jacfwd(huge_net.forward))\n",
    "\n",
    "# Hessian matrix\n",
    "hess = vmap(hessian(huge_net.forward))\n",
    "jacrr = vmap(jacrev(jacrev(huge_net.forward)))\n",
    "jacrf = vmap(jacrev(jacfwd(huge_net.forward)))\n",
    "jacfr = vmap(jacfwd(jacrev(huge_net.forward)))\n",
    "jacff = vmap(jacfwd(jacfwd(huge_net.forward)))"
   ]
  },
  {
   "cell_type": "code",
   "execution_count": 4,
   "metadata": {},
   "outputs": [],
   "source": [
    "n_batchs = 100"
   ]
  },
  {
   "attachments": {},
   "cell_type": "markdown",
   "metadata": {},
   "source": [
    "As a comparison, here's the evaluation time of the network and the time needed to make the conversion between numpy and torch:"
   ]
  },
  {
   "cell_type": "code",
   "execution_count": 5,
   "metadata": {},
   "outputs": [
    {
     "name": "stdout",
     "output_type": "stream",
     "text": [
      "1.13 ms ± 92.1 µs per loop (mean ± std. dev. of 7 runs, 1,000 loops each)\n"
     ]
    }
   ],
   "source": [
    "%%timeit\n",
    "x = torch.normal(0, torch.ones(n_batchs, n_inputs))\n",
    "huge_net.evaluate(x.numpy())"
   ]
  },
  {
   "cell_type": "code",
   "execution_count": 6,
   "metadata": {},
   "outputs": [
    {
     "name": "stdout",
     "output_type": "stream",
     "text": [
      "17.8 µs ± 409 ns per loop (mean ± std. dev. of 7 runs, 10,000 loops each)\n"
     ]
    }
   ],
   "source": [
    "%%timeit\n",
    "x = torch.normal(0, torch.ones(n_batchs, n_inputs))\n",
    "x_numpy = x.numpy()\n",
    "torch.from_numpy(x_numpy)"
   ]
  },
  {
   "cell_type": "code",
   "execution_count": 7,
   "metadata": {},
   "outputs": [
    {
     "name": "stdout",
     "output_type": "stream",
     "text": [
      "17.4 µs ± 571 ns per loop (mean ± std. dev. of 7 runs, 100,000 loops each)\n"
     ]
    }
   ],
   "source": [
    "%%timeit\n",
    "x = torch.normal(0, torch.ones(n_batchs, n_inputs))\n",
    "x.numpy()"
   ]
  },
  {
   "attachments": {},
   "cell_type": "markdown",
   "metadata": {},
   "source": [
    "Jacobian computation"
   ]
  },
  {
   "cell_type": "code",
   "execution_count": 8,
   "metadata": {},
   "outputs": [
    {
     "name": "stdout",
     "output_type": "stream",
     "text": [
      "28.6 ms ± 3.73 ms per loop (mean ± std. dev. of 7 runs, 10 loops each)\n"
     ]
    }
   ],
   "source": [
    "%%timeit\n",
    "x = torch.normal(0, torch.ones(n_batchs, n_inputs))\n",
    "jacr(x)"
   ]
  },
  {
   "cell_type": "code",
   "execution_count": 9,
   "metadata": {},
   "outputs": [
    {
     "name": "stdout",
     "output_type": "stream",
     "text": [
      "8.15 ms ± 521 µs per loop (mean ± std. dev. of 7 runs, 100 loops each)\n"
     ]
    }
   ],
   "source": [
    "%%timeit\n",
    "x = torch.normal(0, torch.ones(n_batchs, n_inputs))\n",
    "jacf(x)"
   ]
  },
  {
   "attachments": {},
   "cell_type": "markdown",
   "metadata": {},
   "source": [
    "Hessian computation"
   ]
  },
  {
   "cell_type": "code",
   "execution_count": 10,
   "metadata": {},
   "outputs": [
    {
     "name": "stdout",
     "output_type": "stream",
     "text": [
      "214 ms ± 34.4 ms per loop (mean ± std. dev. of 7 runs, 10 loops each)\n"
     ]
    }
   ],
   "source": [
    "%%timeit\n",
    "x = torch.normal(0, torch.ones(n_batchs, n_inputs))\n",
    "hess(x)"
   ]
  },
  {
   "cell_type": "code",
   "execution_count": 11,
   "metadata": {},
   "outputs": [
    {
     "name": "stdout",
     "output_type": "stream",
     "text": [
      "3.88 s ± 216 ms per loop (mean ± std. dev. of 7 runs, 1 loop each)\n"
     ]
    }
   ],
   "source": [
    "%%timeit\n",
    "x = torch.normal(0, torch.ones(n_batchs, n_inputs))\n",
    "jacrr(x)"
   ]
  },
  {
   "cell_type": "code",
   "execution_count": 12,
   "metadata": {},
   "outputs": [
    {
     "name": "stdout",
     "output_type": "stream",
     "text": [
      "1.16 s ± 109 ms per loop (mean ± std. dev. of 7 runs, 1 loop each)\n"
     ]
    }
   ],
   "source": [
    "%%timeit\n",
    "x = torch.normal(0, torch.ones(n_batchs, n_inputs))\n",
    "jacrf(x)"
   ]
  },
  {
   "cell_type": "code",
   "execution_count": 13,
   "metadata": {},
   "outputs": [
    {
     "name": "stdout",
     "output_type": "stream",
     "text": [
      "218 ms ± 5.76 ms per loop (mean ± std. dev. of 7 runs, 1 loop each)\n"
     ]
    }
   ],
   "source": [
    "%%timeit\n",
    "x = torch.normal(0, torch.ones(n_batchs, n_inputs))\n",
    "jacfr(x)"
   ]
  },
  {
   "cell_type": "code",
   "execution_count": 14,
   "metadata": {},
   "outputs": [
    {
     "name": "stdout",
     "output_type": "stream",
     "text": [
      "68.4 ms ± 8.8 ms per loop (mean ± std. dev. of 7 runs, 10 loops each)\n"
     ]
    }
   ],
   "source": [
    "%%timeit\n",
    "x = torch.normal(0, torch.ones(n_batchs, n_inputs))\n",
    "jacff(x)"
   ]
  }
 ],
 "metadata": {
  "kernelspec": {
   "display_name": "torch-v2",
   "language": "python",
   "name": "python3"
  },
  "language_info": {
   "codemirror_mode": {
    "name": "ipython",
    "version": 3
   },
   "file_extension": ".py",
   "mimetype": "text/x-python",
   "name": "python",
   "nbconvert_exporter": "python",
   "pygments_lexer": "ipython3",
   "version": "3.10.12"
  }
 },
 "nbformat": 4,
 "nbformat_minor": 2
}
