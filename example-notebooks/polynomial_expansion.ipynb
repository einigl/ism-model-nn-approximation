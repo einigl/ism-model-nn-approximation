{
 "cells": [
  {
   "attachments": {},
   "cell_type": "markdown",
   "metadata": {},
   "source": [
    "# Polynomial expansion of inputs\n",
    "\n",
    "In this notebook, we introduce the `PolynomialExpansion` module which is able to create polynomial features of inputs in a differentiable way."
   ]
  },
  {
   "cell_type": "code",
   "execution_count": null,
   "metadata": {},
   "outputs": [],
   "source": [
    "import os\n",
    "import sys\n",
    "\n",
    "sys.path.append(os.path.join(os.path.abspath(''), \"..\"))\n",
    "\n",
    "import torch\n",
    "\n",
    "from nnbma.networks import FullyConnected, PolynomialNetwork\n",
    "from nnbma.layers import PolynomialExpansion"
   ]
  },
  {
   "attachments": {},
   "cell_type": "markdown",
   "metadata": {},
   "source": [
    "## `PolynomialExpansion` module\n",
    "\n",
    "`PolynomialExpansion` is a torch `Module` that creates all possible (non-constant) monomial from a set of inputs. For instance, for `degree=2`, we have:\n",
    "\n",
    "$ \\mathrm{poly}((x_1,\\,x_2,\\,x_3)) = (x_1,\\,x_2,\\,x_3,\\,x_1^2,\\,x_1x_2,\\,x_1x_3,\\,x_2^2,\\,x_2x_3,\\,x_3^2) $."
   ]
  },
  {
   "attachments": {},
   "cell_type": "markdown",
   "metadata": {},
   "source": [
    "Here's the corresponding expansion:"
   ]
  },
  {
   "cell_type": "code",
   "execution_count": null,
   "metadata": {},
   "outputs": [],
   "source": [
    "input_features = 3\n",
    "order = 2\n",
    "\n",
    "layer = PolynomialExpansion(input_features, order, standardize=False)\n",
    "\n",
    "x = torch.tensor([2., 3., 5.]) # Must have x.shape[-1] = input_features\n",
    "print(\"Input:\", x)\n",
    "\n",
    "y = layer(x)\n",
    "print(\"Output:\", y)"
   ]
  },
  {
   "attachments": {},
   "cell_type": "markdown",
   "metadata": {},
   "source": [
    "As any modules from this package, it works with batched inputs along the first axes:"
   ]
  },
  {
   "cell_type": "code",
   "execution_count": null,
   "metadata": {},
   "outputs": [],
   "source": [
    "x = torch.tensor([\n",
    "    [\n",
    "        [2., 3., 5.],\n",
    "        [1., 1., 1.],\n",
    "    ], [\n",
    "        [1., 0., 0.],\n",
    "        [0., 2., 3.],\n",
    "    ]\n",
    "]) # Must have x.shape[-1] = input_features\n",
    "print(\"Input:\", x)\n",
    "\n",
    "y = layer(x)\n",
    "print(\"Output:\", y)"
   ]
  },
  {
   "attachments": {},
   "cell_type": "markdown",
   "metadata": {},
   "source": [
    "Contrary to its classical use in preprocessing, this expansion is completely differentiable with respect to its inputs, so that it can be integrated into a neural network (and not placed before, a situation where the derivation of the network with respect to the inputs would be performed with respect to the developed inputs, and not with respect to the real inputs)."
   ]
  },
  {
   "cell_type": "code",
   "execution_count": null,
   "metadata": {},
   "outputs": [],
   "source": [
    "x = torch.tensor([2., 3., 5.], requires_grad=True) # Must have x.shape[-1] = input_features\n",
    "print(\"Input:\", x)\n",
    "\n",
    "y = layer(x)\n",
    "print(\"Output gradient:\", y)"
   ]
  },
  {
   "attachments": {},
   "cell_type": "markdown",
   "metadata": {},
   "source": [
    "## `PolynomialNetwork` module\n",
    "\n",
    "`PolynomialNetwork` is a convenience class that allows to integrate a `PolynomialLayer` at the input of a network inheriting from `NeuralNetwork`."
   ]
  },
  {
   "cell_type": "code",
   "execution_count": null,
   "metadata": {},
   "outputs": [],
   "source": [
    "subnet = FullyConnected(\n",
    "    [PolynomialExpansion.expanded_features(order, input_features), 10, 10, 1], # expanded_features allow to anticipate the number of polynomial features that the subnetwork will have as input, depending on the number of real input features and the max order.\n",
    "    torch.nn.ReLU(),\n",
    ")\n",
    "\n",
    "net = PolynomialNetwork(\n",
    "    input_features,\n",
    "    order,\n",
    "    subnet,\n",
    ")\n",
    "net.eval()"
   ]
  },
  {
   "cell_type": "code",
   "execution_count": null,
   "metadata": {},
   "outputs": [],
   "source": [
    "x = torch.tensor([2., 3., 5.], requires_grad=True) # Must have x.shape[-1] = input_features\n",
    "print(\"Input:\", x)\n",
    "\n",
    "y = net(x)\n",
    "print(\"Output gradient:\", y)"
   ]
  }
 ],
 "metadata": {
  "kernelspec": {
   "display_name": "torch-v2",
   "language": "python",
   "name": "python3"
  },
  "language_info": {
   "codemirror_mode": {
    "name": "ipython",
    "version": 3
   },
   "file_extension": ".py",
   "mimetype": "text/x-python",
   "name": "python",
   "nbconvert_exporter": "python",
   "pygments_lexer": "ipython3",
   "version": "3.11.3"
  }
 },
 "nbformat": 4,
 "nbformat_minor": 2
}
