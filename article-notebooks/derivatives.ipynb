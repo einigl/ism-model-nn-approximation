{
 "cells": [
  {
   "cell_type": "code",
   "execution_count": null,
   "metadata": {},
   "outputs": [],
   "source": [
    "import os\n",
    "import sys\n",
    "\n",
    "sys.path.append(os.path.join(os.path.abspath(''), \"..\"))\n",
    "\n",
    "import numpy as np\n",
    "import matplotlib.pyplot as plt\n",
    "\n",
    "import torch\n",
    "from torch.func import jacrev, hessian, vmap\n",
    "\n",
    "from nnbma.networks import NeuralNetwork"
   ]
  },
  {
   "cell_type": "code",
   "execution_count": null,
   "metadata": {},
   "outputs": [],
   "source": [
    "filename = os.path.join(os.path.splitext(os.path.abspath(''))[0], \"out-nn-regression-dense\")"
   ]
  },
  {
   "cell_type": "code",
   "execution_count": null,
   "metadata": {},
   "outputs": [],
   "source": [
    "path = os.path.join(os.path.splitext(os.path.abspath(''))[0], \"out-training\")\n",
    "\n",
    "net = NeuralNetwork.load(\"network\", path)\n",
    "net.double().eval()\n",
    "print(net)"
   ]
  },
  {
   "cell_type": "code",
   "execution_count": null,
   "metadata": {},
   "outputs": [],
   "source": [
    "print(\"Input parameters:\", *net.inputs_names)\n",
    "print(\"Number of output lines:\", net.output_features)"
   ]
  },
  {
   "attachments": {},
   "cell_type": "markdown",
   "metadata": {},
   "source": [
    "## Profiles"
   ]
  },
  {
   "cell_type": "code",
   "execution_count": null,
   "metadata": {},
   "outputs": [],
   "source": [
    "output_name = \"h2_v0_j2__v0_j0\"\n",
    "\n",
    "inputs_values = [1e6, None, 1e3, 0] # None value means that the parameter is free (only one parameter can be let free)\n",
    "\n",
    "n_points = 100"
   ]
  },
  {
   "cell_type": "code",
   "execution_count": null,
   "metadata": {},
   "outputs": [],
   "source": [
    "extents = {\n",
    "    \"P\": (1e5, 1e9, \"log\"),\n",
    "    \"Avmax\": (1e0, 4e1, \"log\"),\n",
    "    \"radm\": (1e0, 1e5, \"log\"),\n",
    "    \"angle\": (0, 60, \"lin\"),\n",
    "}\n",
    "\n",
    "if extents[input_name][-1] == \"log\":\n",
    "    x = np.log10(\n",
    "        torch.logspace(extents[input_name][0], extents[input_name][1])\n",
    "    )\n",
    "else:\n",
    "    x = torch.linspace(extents[input_name][0], extents[input_name][1])\n",
    "print(\"x.shape:\", x.shape)\n",
    "\n",
    "net.restrict_to_output_subset([output_name])\n",
    "\n",
    "jacobian_f = vmap(jacrev(f))\n",
    "hessian_f = vmap(hessian(f))\n",
    "\n",
    "dy = jacobian_f(torch.from_numpy(x)).detach().numpy()\n",
    "print(\"dy.shape:\", dy.shape)\n",
    "\n",
    "ddy = hessian_f(torch.from_numpy(x)).detach().numpy()\n",
    "print(\"ddy.shape:\", ddy.shape)"
   ]
  },
  {
   "attachments": {},
   "cell_type": "markdown",
   "metadata": {},
   "source": [
    "## Maps"
   ]
  },
  {
   "cell_type": "code",
   "execution_count": null,
   "metadata": {},
   "outputs": [],
   "source": []
  },
  {
   "cell_type": "code",
   "execution_count": null,
   "metadata": {},
   "outputs": [],
   "source": [
    "# Work in progress"
   ]
  }
 ],
 "metadata": {
  "language_info": {
   "name": "python"
  }
 },
 "nbformat": 4,
 "nbformat_minor": 2
}
