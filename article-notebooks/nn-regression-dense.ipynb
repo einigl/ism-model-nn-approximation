{
 "cells": [
  {
   "attachments": {},
   "cell_type": "markdown",
   "metadata": {},
   "source": [
    "# Neural network based regression - Densely connected network"
   ]
  },
  {
   "cell_type": "code",
   "execution_count": 1,
   "metadata": {},
   "outputs": [],
   "source": [
    "import os\n",
    "import sys\n",
    "\n",
    "sys.path.append(os.path.join(os.path.abspath(''), \"..\"))\n",
    "\n",
    "from torch import nn, optim\n",
    "\n",
    "from nnbma.networks import DenselyConnected, PolynomialNetwork\n",
    "from nnbma.layers import PolynomialExpansion\n",
    "from nnbma.learning import LearningParameters, MaskedMSELoss\n",
    "\n",
    "from helpers.preprocessing import get_names\n",
    "from helpers.training import procedure\n",
    "from helpers.results import save_results"
   ]
  },
  {
   "cell_type": "code",
   "execution_count": 2,
   "metadata": {},
   "outputs": [],
   "source": [
    "filename = os.path.join(os.path.splitext(os.path.abspath(''))[0], \"out-nn-regression-dense\")"
   ]
  },
  {
   "attachments": {},
   "cell_type": "markdown",
   "metadata": {},
   "source": [
    "### Selected inputs (can be modified)"
   ]
  },
  {
   "cell_type": "code",
   "execution_count": 3,
   "metadata": {},
   "outputs": [],
   "source": [
    "lines = None # If None, select all lines by default"
   ]
  },
  {
   "cell_type": "code",
   "execution_count": 4,
   "metadata": {},
   "outputs": [],
   "source": [
    "inputs_names, outputs_names = get_names(lines=lines)\n",
    "n_inputs, n_outputs = len(inputs_names), len(outputs_names)"
   ]
  },
  {
   "attachments": {},
   "cell_type": "markdown",
   "metadata": {},
   "source": [
    "### Architecture settings (can be modified)"
   ]
  },
  {
   "cell_type": "code",
   "execution_count": 5,
   "metadata": {},
   "outputs": [],
   "source": [
    "n_layers = 12\n",
    "growing_factor = 0.25\n",
    "poly_degree = 3"
   ]
  },
  {
   "cell_type": "code",
   "execution_count": 6,
   "metadata": {},
   "outputs": [
    {
     "name": "stdout",
     "output_type": "stream",
     "text": [
      "layers_sizes\n",
      "[34, 9, 11, 14, 17, 22, 27, 34, 42, 53, 66, 83, 5375]\n",
      "412\n"
     ]
    }
   ],
   "source": [
    "## Architecture hyperparameters\n",
    "\n",
    "n_expanded_inputs = PolynomialExpansion.expanded_features(poly_degree, n_inputs)\n",
    "\n",
    "activation = nn.ELU()\n",
    "batch_norm = False\n",
    "\n",
    "## Network creation\n",
    "\n",
    "subnetwork = DenselyConnected(\n",
    "    n_expanded_inputs,\n",
    "    n_outputs,\n",
    "    n_layers,\n",
    "    growing_factor,\n",
    "    activation,\n",
    "    batch_norm=batch_norm,\n",
    "    outputs_names=outputs_names,\n",
    ")\n",
    "\n",
    "model = PolynomialNetwork(\n",
    "    n_inputs,\n",
    "    poly_degree,\n",
    "    subnetwork,\n",
    "    inputs_names=inputs_names,\n",
    "    outputs_names=outputs_names,\n",
    "    inputs_transformer=None, # Will be set in the procedure\n",
    "    outputs_transformer=None, # Will be set in the procedure\n",
    ")"
   ]
  },
  {
   "attachments": {},
   "cell_type": "markdown",
   "metadata": {},
   "source": [
    "### Training settings (can be modified)"
   ]
  },
  {
   "cell_type": "code",
   "execution_count": 7,
   "metadata": {},
   "outputs": [],
   "source": [
    "# Epochs\n",
    "epochs = 200\n",
    "\n",
    "# Batch size\n",
    "batch_size = 500\n",
    "\n",
    "# Loss function\n",
    "use_mask = True\n",
    "loss = MaskedMSELoss() if use_mask else nn.MSELoss()\n",
    "\n",
    "# Optimizer\n",
    "learning_rate = 1e-3\n",
    "optimizer = optim.Adam(model.parameters(), learning_rate)\n",
    "\n",
    "# Scheduler\n",
    "factor = 0.9\n",
    "patience = 5\n",
    "scheduler = optim.lr_scheduler.ReduceLROnPlateau(\n",
    "    optimizer, patience=patience, factor=factor, min_lr=learning_rate*1e-3\n",
    ")"
   ]
  },
  {
   "cell_type": "code",
   "execution_count": 8,
   "metadata": {},
   "outputs": [],
   "source": [
    "## Learning hyperparameters\n",
    "\n",
    "learning_params = LearningParameters(loss, epochs, batch_size, optimizer, scheduler)"
   ]
  },
  {
   "attachments": {},
   "cell_type": "markdown",
   "metadata": {},
   "source": [
    "### Training procedure"
   ]
  },
  {
   "cell_type": "code",
   "execution_count": 9,
   "metadata": {},
   "outputs": [
    {
     "name": "stdout",
     "output_type": "stream",
     "text": [
      "\n",
      "Number of inputs features: 4\n",
      "Number of outputs features: 5,375\n",
      "Number of rows: 19208\n",
      "\n",
      "Number of parameters: 2,295,178 (9.18 MB)\n",
      "Number of learnable parameters: 2,295,178 (9.18 MB)\n",
      "Training initiated\n",
      "PolynomialNetwork:\n",
      "\tinput_features: 4\n",
      "\torder: 3\n",
      "\tsubnetwork: DenselyConnected:\n",
      "\tinput_features: 34\n",
      "\toutput_features: 5375\n",
      "\tn_layers: 12\n",
      "\tgrowing_factor: 0.25\n",
      "\tactivation: ELU(alpha=1.0)\n",
      "\tbatch_norm: False\n",
      "\tinputs_names: None\n",
      "\toutputs_names: ['h2_v0_j2__v0_j0', 'h2_v0_j3__v0_j1', 'h2_v0_j4__v0_j2', 'h2_v0_j5__v0_j3', 'h2_v0_j6__v0_j4', 'h2_v0_j7__v0_j5', '...']\n",
      "\tinputs_transformer: None\n",
      "\toutputs_transformer: None\n",
      "\tdevice: cpu\n",
      "\tlast_restrictable: True\n",
      "\n",
      "\tinputs_names: ['P', 'radm', 'Avmax', 'angle']\n",
      "\toutputs_names: ['h2_v0_j2__v0_j0', 'h2_v0_j3__v0_j1', 'h2_v0_j4__v0_j2', 'h2_v0_j5__v0_j3', 'h2_v0_j6__v0_j4', 'h2_v0_j7__v0_j5', '...']\n",
      "\tinputs_transformer: SequentialOperator: [\"ColumnwiseOperator: ['log10', 'log10', 'log10', 'id']\", 'Normalizer: NormTypes.MEAN0STD1']\n",
      "\toutputs_transformer: Operator: id\n",
      "\tdevice: cpu\n",
      ": 2,295,178 learnable parameters (9.18 MB)\n",
      "\n"
     ]
    },
    {
     "name": "stderr",
     "output_type": "stream",
     "text": [
      "Epoch: 100%|██████████| 200/200 [23:06<00:00,  6.93s/it, train loss=0.0279, val loss=0.0237, train error=13930.89%, val error=42.19%]                                         \n"
     ]
    }
   ],
   "source": [
    "results = procedure(\n",
    "    outputs_names,\n",
    "    model,\n",
    "    learning_params,\n",
    "    use_mask,\n",
    "    verbose=True,\n",
    ")"
   ]
  },
  {
   "attachments": {},
   "cell_type": "markdown",
   "metadata": {},
   "source": [
    "### Saving results"
   ]
  },
  {
   "cell_type": "code",
   "execution_count": 10,
   "metadata": {},
   "outputs": [],
   "source": [
    "plot_profile = True"
   ]
  },
  {
   "cell_type": "code",
   "execution_count": 11,
   "metadata": {},
   "outputs": [
    {
     "name": "stdout",
     "output_type": "stream",
     "text": [
      "\n",
      "Number of inputs features: 4\n",
      "Number of outputs features: 5,375\n",
      "Number of rows: 19208\n",
      "\n",
      "README saved\n",
      "Learning figures saved\n",
      "Architecture saved\n",
      "Spreadsheets of errors saved\n"
     ]
    },
    {
     "name": "stderr",
     "output_type": "stream",
     "text": [
      "100%|██████████| 147490/147490 [00:00<00:00, 213608.87it/s]\n",
      "100%|██████████| 20/20 [00:00<00:00, 31.82it/s]\n",
      "100%|██████████| 24510/24510 [00:00<00:00, 314198.80it/s]\n"
     ]
    },
    {
     "name": "stdout",
     "output_type": "stream",
     "text": [
      "Spreadsheet of worst estimations and their profiles saved\n",
      "Spreadsheet of masked values saved\n"
     ]
    }
   ],
   "source": [
    "arch_name = f\"layers_{n_layers}_factor_{growing_factor}_deg_{poly_degree}\"\n",
    "\n",
    "save_results(\n",
    "    results,\n",
    "    outputs_names,\n",
    "    model,\n",
    "    learning_params,\n",
    "    use_mask,\n",
    "    filename,\n",
    "    architecture_name=arch_name,\n",
    "    plot_profiles=plot_profile,\n",
    ")"
   ]
  }
 ],
 "metadata": {
  "kernelspec": {
   "display_name": "Python 3 (ipykernel)",
   "language": "python",
   "name": "python3"
  },
  "language_info": {
   "codemirror_mode": {
    "name": "ipython",
    "version": 3
   },
   "file_extension": ".py",
   "mimetype": "text/x-python",
   "name": "python",
   "nbconvert_exporter": "python",
   "pygments_lexer": "ipython3",
   "version": "3.11.3"
  }
 },
 "nbformat": 4,
 "nbformat_minor": 2
}
