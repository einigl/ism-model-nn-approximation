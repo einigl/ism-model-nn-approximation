{
 "cells": [
  {
   "attachments": {},
   "cell_type": "markdown",
   "metadata": {},
   "source": [
    "# Neural network based regression - Densely connected network"
   ]
  },
  {
   "cell_type": "code",
   "execution_count": null,
   "metadata": {},
   "outputs": [],
   "source": [
    "import os\n",
    "import sys\n",
    "\n",
    "sys.path.append(os.path.join(os.path.abspath(\"\"), \"..\"))\n",
    "\n",
    "from torch import nn, optim\n",
    "\n",
    "from nnbma.networks import DenselyConnected, PolynomialNetwork\n",
    "from nnbma.layers import PolynomialExpansion\n",
    "from nnbma.learning import LearningParameters, MaskedMSELoss, learning_procedure\n",
    "\n",
    "from helpers.preprocessing import prepare_data, prepare_data_transformers\n",
    "from helpers.results import save_results"
   ]
  },
  {
   "cell_type": "code",
   "execution_count": null,
   "metadata": {},
   "outputs": [],
   "source": [
    "filename = os.path.join(\n",
    "    os.path.splitext(os.path.abspath(\"\"))[0], \"out-nn-regression-dense\"\n",
    ")"
   ]
  },
  {
   "attachments": {},
   "cell_type": "markdown",
   "metadata": {},
   "source": [
    "### Dataset"
   ]
  },
  {
   "cell_type": "code",
   "execution_count": null,
   "metadata": {},
   "outputs": [],
   "source": [
    "lines = None  # If None, select all lines by default"
   ]
  },
  {
   "cell_type": "code",
   "execution_count": null,
   "metadata": {},
   "outputs": [],
   "source": [
    "train_set, test_set, train_mask_set, test_mask_set = prepare_data(lines=lines)\n",
    "\n",
    "n_inputs, n_outputs = train_set.n_inputs, train_set.n_outputs\n",
    "inputs_names, outputs_names = train_set.inputs_names, train_set.outputs_names"
   ]
  },
  {
   "cell_type": "code",
   "execution_count": null,
   "metadata": {},
   "outputs": [],
   "source": [
    "inputs_transformer, _, __, outputs_transformer = prepare_data_transformers(train_set)\n",
    "\n",
    "train_set = train_set.apply_transf(inputs_transformer, outputs_transformer)\n",
    "test_set = test_set.apply_transf(inputs_transformer, outputs_transformer)"
   ]
  },
  {
   "attachments": {},
   "cell_type": "markdown",
   "metadata": {},
   "source": [
    "### Architecture settings (can be modified)"
   ]
  },
  {
   "cell_type": "code",
   "execution_count": null,
   "metadata": {},
   "outputs": [],
   "source": [
    "n_layers = 12\n",
    "growing_factor = 0.25\n",
    "poly_degree = 3"
   ]
  },
  {
   "cell_type": "code",
   "execution_count": null,
   "metadata": {},
   "outputs": [],
   "source": [
    "## Architecture hyperparameters\n",
    "\n",
    "n_expanded_inputs = PolynomialExpansion.expanded_features(poly_degree, n_inputs)\n",
    "\n",
    "activation = nn.ELU()\n",
    "batch_norm = False\n",
    "\n",
    "## Network creation\n",
    "\n",
    "subnetwork = DenselyConnected(\n",
    "    n_expanded_inputs,\n",
    "    n_outputs,\n",
    "    n_layers,\n",
    "    growing_factor,\n",
    "    activation,\n",
    "    batch_norm=batch_norm,\n",
    "    outputs_names=outputs_names,\n",
    ")\n",
    "\n",
    "model = PolynomialNetwork(\n",
    "    n_inputs,\n",
    "    poly_degree,\n",
    "    subnetwork,\n",
    "    inputs_names=inputs_names,\n",
    "    outputs_names=outputs_names,\n",
    "    inputs_transformer=inputs_transformer,\n",
    "    outputs_transformer=outputs_transformer,\n",
    ")"
   ]
  },
  {
   "attachments": {},
   "cell_type": "markdown",
   "metadata": {},
   "source": [
    "### Training settings (can be modified)"
   ]
  },
  {
   "cell_type": "code",
   "execution_count": null,
   "metadata": {},
   "outputs": [],
   "source": [
    "# Epochs\n",
    "epochs = 200\n",
    "\n",
    "# Batch size\n",
    "batch_size = 500\n",
    "\n",
    "# Loss function\n",
    "use_mask = True\n",
    "loss = MaskedMSELoss() if use_mask else nn.MSELoss()\n",
    "\n",
    "# Optimizer\n",
    "learning_rate = 1e-3\n",
    "optimizer = optim.Adam(model.parameters(), learning_rate)\n",
    "\n",
    "# Scheduler\n",
    "factor = 0.9\n",
    "patience = 5\n",
    "scheduler = optim.lr_scheduler.ReduceLROnPlateau(\n",
    "    optimizer, patience=patience, factor=factor, min_lr=learning_rate * 1e-3\n",
    ")"
   ]
  },
  {
   "cell_type": "code",
   "execution_count": null,
   "metadata": {},
   "outputs": [],
   "source": [
    "## Learning hyperparameters\n",
    "\n",
    "learning_params = LearningParameters(loss, epochs, batch_size, optimizer, scheduler)"
   ]
  },
  {
   "attachments": {},
   "cell_type": "markdown",
   "metadata": {},
   "source": [
    "### Training procedure"
   ]
  },
  {
   "cell_type": "code",
   "execution_count": null,
   "metadata": {},
   "outputs": [],
   "source": [
    "results = learning_procedure(\n",
    "    model,\n",
    "    (train_set, test_set),\n",
    "    learning_params,\n",
    "    mask_dataset=(train_mask_set, test_mask_set),\n",
    ")"
   ]
  },
  {
   "attachments": {},
   "cell_type": "markdown",
   "metadata": {},
   "source": [
    "### Saving results"
   ]
  },
  {
   "cell_type": "code",
   "execution_count": null,
   "metadata": {},
   "outputs": [],
   "source": [
    "plot_profile = True"
   ]
  },
  {
   "cell_type": "code",
   "execution_count": null,
   "metadata": {},
   "outputs": [],
   "source": [
    "arch_name = f\"layers_{n_layers}_factor_{growing_factor}_deg_{poly_degree}\"\n",
    "\n",
    "save_results(\n",
    "    results,\n",
    "    outputs_names,\n",
    "    model,\n",
    "    learning_params,\n",
    "    use_mask,\n",
    "    filename,\n",
    "    architecture_name=arch_name,\n",
    "    plot_profiles=plot_profile,\n",
    ")"
   ]
  }
 ],
 "metadata": {
  "kernelspec": {
   "display_name": "Python 3 (ipykernel)",
   "language": "python",
   "name": "python3"
  },
  "language_info": {
   "codemirror_mode": {
    "name": "ipython",
    "version": 3
   },
   "file_extension": ".py",
   "mimetype": "text/x-python",
   "name": "python",
   "nbconvert_exporter": "python",
   "pygments_lexer": "ipython3",
   "version": "3.11.3"
  }
 },
 "nbformat": 4,
 "nbformat_minor": 2
}
