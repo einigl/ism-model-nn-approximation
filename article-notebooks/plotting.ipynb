{
 "cells": [
  {
   "cell_type": "code",
   "execution_count": null,
   "metadata": {},
   "outputs": [],
   "source": [
    "import os\n",
    "import sys\n",
    "\n",
    "sys.path.append(os.path.join(os.path.abspath(''), \"..\"))\n",
    "\n",
    "import numpy as np\n",
    "import matplotlib.pyplot as plt\n",
    "\n",
    "import torch\n",
    "from torch.func import jacrev, hessian, vmap\n",
    "\n",
    "from nnbma.networks import NeuralNetwork\n",
    "\n",
    "from helpers.preprocessing import prepare_data\n",
    "from helpers.plots import Plotter\n",
    "from helpers.lines import molecules_among_lines, filter_molecules"
   ]
  },
  {
   "cell_type": "code",
   "execution_count": null,
   "metadata": {},
   "outputs": [],
   "source": [
    "model_name = os.path.join(\n",
    "    os.path.splitext(os.path.abspath(''))[0],\n",
    "    \"out-nn-regression-fc\",\n",
    "    \"hidd_3_last_1000_other_1000_deg_3\"\n",
    ")"
   ]
  },
  {
   "cell_type": "code",
   "execution_count": null,
   "metadata": {},
   "outputs": [],
   "source": [
    "net = NeuralNetwork.load(\"architecture\", model_name)\n",
    "net.save('temp_model')"
   ]
  },
  {
   "cell_type": "code",
   "execution_count": null,
   "metadata": {},
   "outputs": [],
   "source": [
    "input_dataset, _, mask_dataset, __ = prepare_data()\n",
    "df_inputs, df_outputs = input_dataset.to_pandas()\n",
    "df_mask = mask_dataset.to_pandas()\n",
    "\n",
    "plotter = Plotter(df_inputs, df_outputs, df_mask, model=net)"
   ]
  },
  {
   "cell_type": "code",
   "execution_count": null,
   "metadata": {},
   "outputs": [],
   "source": [
    "print(*plotter.inputs_names)"
   ]
  },
  {
   "cell_type": "code",
   "execution_count": null,
   "metadata": {},
   "outputs": [],
   "source": [
    "print(*molecules_among_lines(plotter.outputs_names))"
   ]
  },
  {
   "cell_type": "code",
   "execution_count": null,
   "metadata": {},
   "outputs": [],
   "source": [
    "molecules = ['13co']\n",
    "for mol in molecules:\n",
    "    print(f\"{mol}:\", *filter_molecules(plotter.outputs_names, molecules))"
   ]
  },
  {
   "cell_type": "code",
   "execution_count": null,
   "metadata": {},
   "outputs": [],
   "source": [
    "plotter.print_grid()"
   ]
  },
  {
   "cell_type": "code",
   "execution_count": null,
   "metadata": {},
   "outputs": [],
   "source": [
    "lines = [\n",
    "    'h2_v2_j6__v0_j4', 'c_c3h2_j6_ka4_kc2__j6_ka3_kc3', \n",
    "    'so_n6_j5__n5_j4', 'h2o_j5_ka2_kc3__j5_ka1_kc4'\n",
    "]\n",
    "\n",
    "P = 7.00e+06\n",
    "radm = 2.00e+02\n",
    "Avmax = 5.5e+00\n",
    "angle = 0"
   ]
  },
  {
   "cell_type": "code",
   "execution_count": null,
   "metadata": {},
   "outputs": [],
   "source": [
    "my_lines = [\n",
    "    'h2_18o_j3_ka1_kc3__j2_ka2_kc0', 'h2_18o_j1_ka1_kc0__j1_ka0_kc1', 'h2_18o_j2_ka1_kc1__j2_ka0_kc2', 'h2_18o_j2_ka0_kc2__j1_ka1_kc1', 'h2_18o_j3_ka1_kc2__j3_ka0_kc3', 'h2_18o_j1_ka1_kc1__j0_ka0_kc0', 'h2_18o_j3_ka2_kc1__j3_ka1_kc2', 'h2_18o_j3_ka1_kc2__j2_ka2_kc1', 'h2_18o_j2_ka2_kc0__j2_ka1_kc1', 'h2_18o_j2_ka2_kc1__j2_ka1_kc2', 'h2_18o_j2_ka1_kc2__j1_ka0_kc1', 'h2_18o_j3_ka0_kc3__j2_ka1_kc2', 'h2_18o_j3_ka2_kc2__j3_ka1_kc3', 'h2_18o_j3_ka1_kc3__j2_ka0_kc2', 'h2_18o_j2_ka2_kc1__j1_ka1_kc0', 'h2_18o_j2_ka2_kc0__j1_ka1_kc1', 'h2_18o_j3_ka2_kc2__j2_ka1_kc1', 'h2_18o_j3_ka2_kc1__j2_ka1_kc2', ''\n",
    "]\n",
    "\n",
    "_lines = filter_molecules(plotter.outputs_names, 'h2_18o')\n",
    "my_other_lines = [l for l in _lines if l not in my_lines]\n",
    "my_other_lines;"
   ]
  },
  {
   "cell_type": "markdown",
   "metadata": {},
   "source": [
    "## Global settings"
   ]
  },
  {
   "cell_type": "code",
   "execution_count": null,
   "metadata": {},
   "outputs": [],
   "source": [
    "grid = True\n",
    "regression = True\n",
    "errors = True\n",
    "\n",
    "highlight = False\n",
    "contour = False # Only for slices"
   ]
  },
  {
   "cell_type": "markdown",
   "metadata": {},
   "source": [
    "## Plot profiles"
   ]
  },
  {
   "cell_type": "code",
   "execution_count": null,
   "metadata": {},
   "outputs": [],
   "source": [
    "plt.figure(dpi=150)\n",
    "\n",
    "plotter.plot_profile(\n",
    "    lines,\n",
    "    P=P,\n",
    "    radm=None,\n",
    "    Avmax=Avmax,\n",
    "    angle=angle,\n",
    "    n_samples=100,\n",
    "    grid=True,\n",
    "    regression=True,\n",
    "    highlighted=radm if highlight else [],\n",
    ")\n",
    "\n",
    "plt.show()"
   ]
  },
  {
   "cell_type": "code",
   "execution_count": null,
   "metadata": {},
   "outputs": [],
   "source": [
    "plt.figure(figsize=(6.4, 1.4*4.8), dpi=150)\n",
    "\n",
    "plotter.plot_profile(\n",
    "    lines,\n",
    "    P=P,\n",
    "    radm=radm,\n",
    "    Avmax=None,\n",
    "    angle=angle,\n",
    "    n_samples=200,\n",
    "    grid=grid,\n",
    "    regression=regression,\n",
    "    errors=errors,\n",
    "    highlighted=Avmax if highlight else [],\n",
    ")\n",
    "\n",
    "plt.show()"
   ]
  },
  {
   "cell_type": "code",
   "execution_count": null,
   "metadata": {},
   "outputs": [],
   "source": [
    "plt.figure(figsize=(6.4, 1.4*4.8), dpi=150)\n",
    "\n",
    "plotter.plot_profile(\n",
    "    lines,\n",
    "    P=None,\n",
    "    radm=radm,\n",
    "    Avmax=Avmax,\n",
    "    angle=angle,\n",
    "    n_samples=200,\n",
    "    grid=grid,\n",
    "    regression=regression,\n",
    "    errors=errors,\n",
    "    highlighted=P if highlight else [],\n",
    ")\n",
    "\n",
    "plt.show()"
   ]
  },
  {
   "cell_type": "code",
   "execution_count": null,
   "metadata": {},
   "outputs": [],
   "source": [
    "plt.figure(figsize=(6.4, 1.4*4.8), dpi=150)\n",
    "\n",
    "plotter.plot_profile(\n",
    "    lines,\n",
    "    P=P,\n",
    "    radm=radm,\n",
    "    Avmax=Avmax,\n",
    "    angle=None,\n",
    "    n_samples=200,\n",
    "    grid=grid,\n",
    "    regression=regression,\n",
    "    errors=errors,\n",
    "    highlighted=radm if highlight else [],\n",
    ")\n",
    "\n",
    "plt.show()"
   ]
  },
  {
   "cell_type": "markdown",
   "metadata": {},
   "source": [
    "## Plot slices"
   ]
  },
  {
   "cell_type": "code",
   "execution_count": null,
   "metadata": {},
   "outputs": [],
   "source": [
    "plt.figure(figsize=(6.4, 2*4.8), dpi=150)\n",
    "\n",
    "plotter.plot_slice(\n",
    "    lines[0],\n",
    "    P=P,\n",
    "    radm=None,\n",
    "    Avmax=None,\n",
    "    angle=angle,\n",
    "    n_samples=200,\n",
    "    grid=grid,\n",
    "    regression=regression,\n",
    "    errors=errors,\n",
    "    highlighted=[{'radm': radm, 'Avmax': Avmax}] if highlight else [],\n",
    "    contour=contour,\n",
    ")\n",
    "\n",
    "plt.show()"
   ]
  },
  {
   "cell_type": "code",
   "execution_count": null,
   "metadata": {},
   "outputs": [],
   "source": [
    "plt.figure(figsize=(6.4, 2*4.8), dpi=150)\n",
    "\n",
    "plotter.plot_slice(\n",
    "    lines[0],\n",
    "    P=None,\n",
    "    radm=None,\n",
    "    Avmax=Avmax,\n",
    "    angle=angle,\n",
    "    n_samples=200,\n",
    "    grid=grid,\n",
    "    regression=regression,\n",
    "    errors=errors,\n",
    "    highlighted=[{'P': P, 'radm': radm}] if highlight else [],\n",
    "    contour=contour,\n",
    ")\n",
    "\n",
    "plt.show()"
   ]
  },
  {
   "cell_type": "code",
   "execution_count": null,
   "metadata": {},
   "outputs": [],
   "source": [
    "plt.figure(figsize=(6.4, 2*4.8), dpi=150)\n",
    "\n",
    "plotter.plot_slice(\n",
    "    lines[0],\n",
    "    P=None,\n",
    "    radm=radm,\n",
    "    Avmax=None,\n",
    "    angle=angle,\n",
    "    n_samples=200,\n",
    "    grid=grid,\n",
    "    regression=regression,\n",
    "    errors=errors,\n",
    "    highlighted=[{'P': P, 'Avmax': Avmax}] if highlight else [],\n",
    "    contour=contour,\n",
    ")\n",
    "\n",
    "plt.show()"
   ]
  }
 ],
 "metadata": {
  "kernelspec": {
   "display_name": "torch-v2",
   "language": "python",
   "name": "python3"
  },
  "language_info": {
   "codemirror_mode": {
    "name": "ipython",
    "version": 3
   },
   "file_extension": ".py",
   "mimetype": "text/x-python",
   "name": "python",
   "nbconvert_exporter": "python",
   "pygments_lexer": "ipython3",
   "version": "3.11.3"
  }
 },
 "nbformat": 4,
 "nbformat_minor": 2
}
