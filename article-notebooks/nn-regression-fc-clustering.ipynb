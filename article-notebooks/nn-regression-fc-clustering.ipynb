{
 "cells": [
  {
   "attachments": {},
   "cell_type": "markdown",
   "metadata": {},
   "source": [
    "# Neural network based regression - Fully connected network with clustering"
   ]
  },
  {
   "cell_type": "code",
   "execution_count": null,
   "metadata": {},
   "outputs": [],
   "source": [
    "import os\n",
    "import sys\n",
    "\n",
    "sys.path.append(os.path.join(os.path.abspath(\"\"), \"..\"))\n",
    "\n",
    "from torch import nn, optim\n",
    "\n",
    "from nnbma.networks import FullyConnected, PolynomialNetwork, MergingNetwork\n",
    "from nnbma.layers import PolynomialExpansion\n",
    "from nnbma.learning import LearningParameters, MaskedMSELoss\n",
    "\n",
    "from helpers.preprocessing import get_names, prepare_clusters\n",
    "from helpers.training import procedure\n",
    "from helpers.results import save_results"
   ]
  },
  {
   "cell_type": "code",
   "execution_count": null,
   "metadata": {},
   "outputs": [],
   "source": [
    "filename = os.path.join(\n",
    "    os.path.splitext(os.path.abspath(\"\"))[0], \"out-nn-regression-fc\"\n",
    ")"
   ]
  },
  {
   "attachments": {},
   "cell_type": "markdown",
   "metadata": {},
   "source": [
    "### Selected inputs (can be modified)"
   ]
  },
  {
   "cell_type": "code",
   "execution_count": null,
   "metadata": {},
   "outputs": [],
   "source": [
    "lines = None  # If None, select all lines by default"
   ]
  },
  {
   "cell_type": "code",
   "execution_count": null,
   "metadata": {},
   "outputs": [],
   "source": [
    "inputs_names, outputs_names = get_names(lines=lines)\n",
    "n_inputs, n_outputs = len(inputs_names), len(outputs_names)"
   ]
  },
  {
   "cell_type": "markdown",
   "metadata": {},
   "source": [
    "### Clusters\n",
    "\n",
    "`n_comps` is the number of principal components from `clustering.ipynb`."
   ]
  },
  {
   "cell_type": "code",
   "execution_count": null,
   "metadata": {},
   "outputs": [],
   "source": [
    "n_clusters = 4\n",
    "n_comps = [500, 100, 75, 350]"
   ]
  },
  {
   "attachments": {},
   "cell_type": "markdown",
   "metadata": {},
   "source": [
    "### Architecture settings (can be modified)"
   ]
  },
  {
   "cell_type": "code",
   "execution_count": null,
   "metadata": {},
   "outputs": [],
   "source": [
    "n_hidden_layers = 3\n",
    "last_layer_size = 1000\n",
    "other_layers_size = 1000\n",
    "poly_degree = 3"
   ]
  },
  {
   "cell_type": "code",
   "execution_count": null,
   "metadata": {},
   "outputs": [],
   "source": [
    "## Architecture hyperparameters\n",
    "\n",
    "activation = nn.ELU()\n",
    "batch_norm = False\n",
    "\n",
    "subnetworks = []\n",
    "w = n_outputs * [1.0]\n",
    "\n",
    "for k in range(n_clusters):\n",
    "    _lines = prepare_clusters(n_clusters)[k + 1]\n",
    "    n_comp = n_comps[k]\n",
    "\n",
    "    _, _outputs_names = get_names(lines=_lines)\n",
    "    _n_outputs = len(_outputs_names)\n",
    "\n",
    "    n_expanded_inputs = PolynomialExpansion.expanded_features(poly_degree, n_inputs)\n",
    "\n",
    "    _layers_sizes = [n_expanded_inputs] + n_hidden_layers * [n_comp] + [_n_outputs]\n",
    "\n",
    "    subnetworks.append(\n",
    "        PolynomialNetwork(\n",
    "            n_inputs,\n",
    "            poly_degree,\n",
    "            FullyConnected(\n",
    "                _layers_sizes,\n",
    "                activation,\n",
    "                batch_norm=batch_norm,\n",
    "                outputs_names=_outputs_names,\n",
    "            ),\n",
    "            inputs_names=inputs_names,\n",
    "            outputs_names=_outputs_names,\n",
    "        )\n",
    "    )\n",
    "\n",
    "    for i in range(n_outputs):\n",
    "        line = outputs_names[i]\n",
    "        if line in _outputs_names:\n",
    "            w[i] = n_outputs / _n_outputs\n",
    "\n",
    "use_mask = True\n",
    "\n",
    "## Network creation\n",
    "\n",
    "model = MergingNetwork(\n",
    "    subnetworks,\n",
    "    inputs_names=inputs_names,\n",
    "    outputs_names=outputs_names,\n",
    "    inputs_transformer=None,  # Will be set in the procedure\n",
    "    outputs_transformer=None,  # Will be set in the procedure\n",
    ")"
   ]
  },
  {
   "attachments": {},
   "cell_type": "markdown",
   "metadata": {},
   "source": [
    "### Training settings (can be modified)"
   ]
  },
  {
   "cell_type": "code",
   "execution_count": null,
   "metadata": {},
   "outputs": [],
   "source": [
    "# Epochs\n",
    "epochs = 200\n",
    "\n",
    "# Batch size\n",
    "batch_size = 500\n",
    "\n",
    "# Loss function\n",
    "use_mask = True\n",
    "loss = MaskedMSELoss() if use_mask else nn.MSELoss()\n",
    "\n",
    "# Optimizer\n",
    "learning_rate = 1e-3\n",
    "optimizer = optim.Adam(model.parameters(), learning_rate)\n",
    "\n",
    "# Scheduler\n",
    "factor = 0.9\n",
    "patience = 5\n",
    "scheduler = optim.lr_scheduler.ReduceLROnPlateau(\n",
    "    optimizer, patience=patience, factor=factor, min_lr=learning_rate * 1e-3\n",
    ")"
   ]
  },
  {
   "cell_type": "code",
   "execution_count": null,
   "metadata": {},
   "outputs": [],
   "source": [
    "learning_params = LearningParameters(loss, epochs, batch_size, optimizer, scheduler)"
   ]
  },
  {
   "attachments": {},
   "cell_type": "markdown",
   "metadata": {},
   "source": [
    "### Training procedure"
   ]
  },
  {
   "cell_type": "code",
   "execution_count": null,
   "metadata": {},
   "outputs": [],
   "source": [
    "results = procedure(\n",
    "    outputs_names,\n",
    "    model,\n",
    "    learning_params,\n",
    "    use_mask,\n",
    "    verbose=True,\n",
    ")"
   ]
  },
  {
   "attachments": {},
   "cell_type": "markdown",
   "metadata": {},
   "source": [
    "### Saving results"
   ]
  },
  {
   "cell_type": "code",
   "execution_count": null,
   "metadata": {},
   "outputs": [],
   "source": [
    "plot_profile = True"
   ]
  },
  {
   "cell_type": "code",
   "execution_count": null,
   "metadata": {},
   "outputs": [],
   "source": [
    "arch_name = f\"hidd_{n_hidden_layers}_last_{last_layer_size}_other_{other_layers_size}_deg_{poly_degree}\"\n",
    "\n",
    "save_results(\n",
    "    results,\n",
    "    outputs_names,\n",
    "    model,\n",
    "    learning_params,\n",
    "    use_mask,\n",
    "    filename,\n",
    "    architecture_name=arch_name,\n",
    "    plot_profiles=plot_profile,\n",
    ")"
   ]
  }
 ],
 "metadata": {
  "kernelspec": {
   "display_name": "Python 3 (ipykernel)",
   "language": "python",
   "name": "python3"
  },
  "language_info": {
   "codemirror_mode": {
    "name": "ipython",
    "version": 3
   },
   "file_extension": ".py",
   "mimetype": "text/x-python",
   "name": "python",
   "nbconvert_exporter": "python",
   "pygments_lexer": "ipython3",
   "version": "3.10.12"
  }
 },
 "nbformat": 4,
 "nbformat_minor": 2
}
