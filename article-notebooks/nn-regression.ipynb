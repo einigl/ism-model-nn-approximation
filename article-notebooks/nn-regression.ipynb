{
 "cells": [
  {
   "cell_type": "markdown",
   "metadata": {},
   "source": [
    "# Neural network based regression"
   ]
  },
  {
   "cell_type": "code",
   "execution_count": 1,
   "metadata": {},
   "outputs": [],
   "source": [
    "import os\n",
    "import sys\n",
    "\n",
    "sys.path.append(os.path.join(os.path.abspath(''), \"..\"))\n",
    "\n",
    "from torch import nn, optim\n",
    "\n",
    "from nnbma.networks import FullyConnected, DenselyConnected, PolynomialNetwork\n",
    "from nnbma.layers import PolynomialExpansion\n",
    "from nnbma.learning import LearningParameters, MaskedMSELoss\n",
    "\n",
    "from helpers.preprocessing import get_names\n",
    "from helpers.results import procedure"
   ]
  },
  {
   "cell_type": "code",
   "execution_count": 2,
   "metadata": {},
   "outputs": [],
   "source": [
    "filename = os.path.splitext(os.path.abspath(''))[0]"
   ]
  },
  {
   "cell_type": "code",
   "execution_count": 3,
   "metadata": {},
   "outputs": [],
   "source": [
    "lines = None\n",
    "\n",
    "inputs_names, outputs_names = get_names(lines=lines)\n",
    "n_inputs, n_outputs = len(inputs_names), len(outputs_names)"
   ]
  },
  {
   "cell_type": "markdown",
   "metadata": {},
   "source": [
    "## Fully connected network"
   ]
  },
  {
   "cell_type": "code",
   "execution_count": 4,
   "metadata": {},
   "outputs": [],
   "source": [
    "n_hidden_layers = 3\n",
    "last_layer_size = 1000\n",
    "other_layers_size = 1000\n",
    "poly_degree = 3"
   ]
  },
  {
   "cell_type": "code",
   "execution_count": 5,
   "metadata": {},
   "outputs": [],
   "source": [
    "## Architecture hyperparameters\n",
    "\n",
    "n_expanded_inputs = PolynomialExpansion.expanded_features(poly_degree, n_inputs)\n",
    "\n",
    "layers_sizes = [n_expanded_inputs] + (n_hidden_layers-1)*[other_layers_size] + [last_layer_size, n_outputs]\n",
    "\n",
    "activation = nn.ELU()\n",
    "batch_norm = False\n",
    "\n",
    "use_mask = True\n",
    "\n",
    "## Network creation\n",
    "\n",
    "subnetwork = FullyConnected(\n",
    "    layers_sizes,\n",
    "    activation,\n",
    "    batch_norm=batch_norm,\n",
    "    outputs_names=outputs_names,\n",
    ")\n",
    "\n",
    "model = PolynomialNetwork(\n",
    "    n_inputs,\n",
    "    poly_degree,\n",
    "    subnetwork,\n",
    "    inputs_names=inputs_names,\n",
    "    outputs_names=outputs_names,\n",
    "    inputs_transformer=None, # Will be set in the procedure\n",
    "    outputs_transformer=None, # Will be set in the procedure\n",
    ")"
   ]
  },
  {
   "cell_type": "code",
   "execution_count": 6,
   "metadata": {},
   "outputs": [],
   "source": [
    "## Learning hyperparameters\n",
    "\n",
    "factor = 0.9\n",
    "patience = 5\n",
    "\n",
    "learning_params = []\n",
    "\n",
    "epochs = 500\n",
    "learning_rate = 1e-3\n",
    "batch_size = 100\n",
    "optimizer = optim.Adam(model.parameters(), learning_rate)\n",
    "scheduler = optim.lr_scheduler.ReduceLROnPlateau(\n",
    "    optimizer, patience=patience, factor=factor, min_lr=learning_rate*1e-3\n",
    ")\n",
    "\n",
    "loss = MaskedMSELoss() if use_mask else nn.MSELoss()\n",
    "\n",
    "learning_params = LearningParameters(loss, epochs, batch_size, optimizer, scheduler)"
   ]
  },
  {
   "cell_type": "code",
   "execution_count": null,
   "metadata": {},
   "outputs": [
    {
     "name": "stdout",
     "output_type": "stream",
     "text": [
      "\n",
      "Number of inputs features: 4\n",
      "Number of outputs features: 5,375\n",
      "Number of rows: 19208\n",
      "\n",
      "Number of parameters: 7,417,443 (29.67 MB)\n",
      "Number of learnable parameters: 7,417,443 (29.67 MB)\n"
     ]
    }
   ],
   "source": [
    "## Procedure\n",
    "\n",
    "arch_name = f\"hidd_{n_hidden_layers}_last_{last_layer_size}_other_{other_layers_size}_deg_{poly_degree}\"\n",
    "\n",
    "procedure(\n",
    "    outputs_names, model, learning_params, filename,\n",
    "    architecture_name=arch_name,\n",
    "    plot_profiles=False,\n",
    "    mask=use_mask,\n",
    "    verbose=False,\n",
    ")"
   ]
  },
  {
   "cell_type": "markdown",
   "metadata": {},
   "source": [
    "## Densely connected network"
   ]
  },
  {
   "cell_type": "markdown",
   "metadata": {},
   "source": [
    "### Settings (can be modified)"
   ]
  },
  {
   "cell_type": "code",
   "execution_count": null,
   "metadata": {},
   "outputs": [],
   "source": [
    "n_layers = None\n",
    "growing_factor = None\n",
    "poly_degree = None"
   ]
  },
  {
   "cell_type": "code",
   "execution_count": null,
   "metadata": {},
   "outputs": [],
   "source": [
    "## Architecture hyperparameters\n",
    "\n",
    "n_expanded_inputs = PolynomialExpansion.expanded_features(poly_degree, n_inputs)\n",
    "\n",
    "activation = nn.ELU()\n",
    "batch_norm = False\n",
    "\n",
    "use_mask = True\n",
    "\n",
    "## Network creation\n",
    "\n",
    "subnetwork = DenselyConnected(\n",
    "    n_expanded_inputs,\n",
    "    n_outputs,\n",
    "    n_layers,\n",
    "    growing_factor,\n",
    "    activation,\n",
    "    batch_norm=batch_norm,\n",
    "    outputs_names=outputs_names,\n",
    ")\n",
    "\n",
    "model = PolynomialNetwork(\n",
    "    n_inputs,\n",
    "    poly_degree,\n",
    "    subnetwork,\n",
    "    inputs_names=inputs_names,\n",
    "    outputs_names=outputs_names,\n",
    "    inputs_transformer=None, # Will be set in the procedure\n",
    "    outputs_transformer=None, # Will be set in the procedure\n",
    ")"
   ]
  },
  {
   "cell_type": "code",
   "execution_count": null,
   "metadata": {},
   "outputs": [],
   "source": [
    "## Learning hyperparameters\n",
    "\n",
    "factor = 0.9\n",
    "patience = 5\n",
    "\n",
    "learning_params = []\n",
    "\n",
    "epochs = 1000\n",
    "learning_rate = 1e-3\n",
    "batch_size = 100\n",
    "optimizer = optim.Adam(model.parameters(), learning_rate)\n",
    "scheduler = optim.lr_scheduler.ReduceLROnPlateau(\n",
    "    optimizer, patience=patience, factor=factor, min_lr=learning_rate*1e-3\n",
    ")\n",
    "\n",
    "loss = MaskedMSELoss() if use_mask else nn.MSELoss()\n",
    "\n",
    "learning_params = LearningParameters(loss, epochs, batch_size, optimizer, scheduler)"
   ]
  },
  {
   "cell_type": "code",
   "execution_count": null,
   "metadata": {},
   "outputs": [],
   "source": [
    "## Procedure\n",
    "\n",
    "arch_name = f\"layers_{n_layers}_factor_{growing_factor}_deg_{poly_degree}\"\n",
    "\n",
    "procedure(\n",
    "    outputs_names, model, learning_params, filename,\n",
    "    architecture_name=arch_name,\n",
    "    plot_profiles=False,\n",
    "    mask=use_mask\n",
    ")"
   ]
  }
 ],
 "metadata": {
  "kernelspec": {
   "display_name": "Python 3 (ipykernel)",
   "language": "python",
   "name": "python3"
  },
  "language_info": {
   "codemirror_mode": {
    "name": "ipython",
    "version": 3
   },
   "file_extension": ".py",
   "mimetype": "text/x-python",
   "name": "python",
   "nbconvert_exporter": "python",
   "pygments_lexer": "ipython3",
   "version": "3.9.2"
  }
 },
 "nbformat": 4,
 "nbformat_minor": 2
}
